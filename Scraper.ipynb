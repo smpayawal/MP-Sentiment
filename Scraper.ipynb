{
 "cells": [
  {
   "cell_type": "code",
   "execution_count": 14,
   "id": "114d8f6a",
   "metadata": {},
   "outputs": [],
   "source": [
    "import pandas as pd\n",
    "\n",
    "import time\n",
    "\n",
    "from selenium.webdriver import Chrome\n",
    "from selenium.webdriver.common.by import By\n",
    "from selenium.webdriver.common.keys import Keys\n",
    "from selenium.webdriver.support.ui import WebDriverWait\n",
    "from selenium.webdriver.support import expected_conditions as EC"
   ]
  },
  {
   "cell_type": "code",
   "execution_count": 38,
   "id": "9ed5c6a8",
   "metadata": {},
   "outputs": [],
   "source": [
    "authors = []\n",
    "comments_posted = []\n",
    "contents = []\n",
    "likes = []\n",
    "\n",
    "# Driver\n",
    "with Chrome(executable_path=r'chromedriver.exe') as driver:\n",
    "    wait = WebDriverWait(driver,15)\n",
    "    driver.get(\"https://www.youtube.com/watch?v=GUlVx4s32kk\")\n",
    "    time.sleep(5)\n",
    "    \n",
    "    # Select the last comment\n",
    "    last_comment = driver.find_element_by_xpath(\"(//*[@id='content-text'])[last()]\")\n",
    "    last_comment.location_once_scrolled_into_view\n",
    "    \n",
    "    wait.until(EC.visibility_of_element_located((By.TAG_NAME, \"body\"))).send_keys(Keys.END)\n",
    "    time.sleep(5)\n",
    "    \n",
    "    # Scroll until the end of the comment    \n",
    "    while last_comment != driver.find_element_by_xpath(\"(//*[@id='content-text'])[last()]\"):\n",
    "        last_comment = driver.find_element_by_xpath(\"(//*[@id='content-text'])[last()]\")\n",
    "        last_comment.location_once_scrolled_into_view\n",
    "        time.sleep(2)\n",
    "        wait.until(EC.visibility_of_element_located((By.TAG_NAME, \"body\"))).send_keys(Keys.END)  \n",
    "        \n",
    "    # Grab all comments with its content\n",
    "    full_comments = driver.find_elements_by_css_selector('#contents #comment')\n",
    "    \n",
    "    # Loop the comments to get the data \n",
    "    for comment in full_comments:\n",
    "        author = comment.find_element_by_id('author-text').text\n",
    "        comment_posted = comment.find_elements_by_css_selector('#header-author > yt-formatted-string > a')[0].text\n",
    "        content = comment.find_elements_by_css_selector('#content-text')[0].text\n",
    "        like = comment.find_elements_by_css_selector('#vote-count-middle')[0].text\n",
    "        \n",
    "        # Saving data to an array\n",
    "        authors.append(author)\n",
    "        comments_posted.append(comment_posted)\n",
    "        contents.append(content)\n",
    "        likes.append(like)\n",
    "        \n",
    "    # Inserting data to DataFrame\n",
    "    df = pd.DataFrame({'Author': authors, 'Comment Posted': comments_posted, 'Content': contents, 'Like': likes})\n"
   ]
  },
  {
   "cell_type": "code",
   "execution_count": 39,
   "id": "892b79c7",
   "metadata": {},
   "outputs": [
    {
     "data": {
      "text/html": [
       "<div>\n",
       "<style scoped>\n",
       "    .dataframe tbody tr th:only-of-type {\n",
       "        vertical-align: middle;\n",
       "    }\n",
       "\n",
       "    .dataframe tbody tr th {\n",
       "        vertical-align: top;\n",
       "    }\n",
       "\n",
       "    .dataframe thead th {\n",
       "        text-align: right;\n",
       "    }\n",
       "</style>\n",
       "<table border=\"1\" class=\"dataframe\">\n",
       "  <thead>\n",
       "    <tr style=\"text-align: right;\">\n",
       "      <th></th>\n",
       "      <th>Author</th>\n",
       "      <th>Comment Posted</th>\n",
       "      <th>Content</th>\n",
       "      <th>Like</th>\n",
       "    </tr>\n",
       "  </thead>\n",
       "  <tbody>\n",
       "    <tr>\n",
       "      <th>0</th>\n",
       "      <td>Isaiah Richardson</td>\n",
       "      <td>1 month ago</td>\n",
       "      <td>Damn it’s a breath of fresh air when they aren...</td>\n",
       "      <td>151</td>\n",
       "    </tr>\n",
       "    <tr>\n",
       "      <th>1</th>\n",
       "      <td>Marianne Johnson</td>\n",
       "      <td>1 month ago</td>\n",
       "      <td>Just imagine what Spence would’ve done to him....</td>\n",
       "      <td>55</td>\n",
       "    </tr>\n",
       "    <tr>\n",
       "      <th>2</th>\n",
       "      <td>K W</td>\n",
       "      <td>1 month ago</td>\n",
       "      <td>Thank you Shannon you always speak facts man 🔥🔥🔥</td>\n",
       "      <td>13</td>\n",
       "    </tr>\n",
       "    <tr>\n",
       "      <th>3</th>\n",
       "      <td>beau sky</td>\n",
       "      <td>1 month ago</td>\n",
       "      <td>pacquiao should have a graceful retirement aft...</td>\n",
       "      <td>15</td>\n",
       "    </tr>\n",
       "    <tr>\n",
       "      <th>4</th>\n",
       "      <td>Maurice Bowie</td>\n",
       "      <td>1 month ago</td>\n",
       "      <td>I could tell from the 1st round that Father Ti...</td>\n",
       "      <td>46</td>\n",
       "    </tr>\n",
       "  </tbody>\n",
       "</table>\n",
       "</div>"
      ],
      "text/plain": [
       "              Author Comment Posted  \\\n",
       "0  Isaiah Richardson    1 month ago   \n",
       "1   Marianne Johnson    1 month ago   \n",
       "2                K W    1 month ago   \n",
       "3           beau sky    1 month ago   \n",
       "4      Maurice Bowie    1 month ago   \n",
       "\n",
       "                                             Content Like  \n",
       "0  Damn it’s a breath of fresh air when they aren...  151  \n",
       "1  Just imagine what Spence would’ve done to him....   55  \n",
       "2   Thank you Shannon you always speak facts man 🔥🔥🔥   13  \n",
       "3  pacquiao should have a graceful retirement aft...   15  \n",
       "4  I could tell from the 1st round that Father Ti...   46  "
      ]
     },
     "execution_count": 39,
     "metadata": {},
     "output_type": "execute_result"
    }
   ],
   "source": [
    "df.head()"
   ]
  },
  {
   "cell_type": "code",
   "execution_count": 40,
   "id": "7ffee9cb",
   "metadata": {},
   "outputs": [
    {
     "data": {
      "text/plain": [
       "(339, 4)"
      ]
     },
     "execution_count": 40,
     "metadata": {},
     "output_type": "execute_result"
    }
   ],
   "source": [
    "df.shape"
   ]
  },
  {
   "cell_type": "code",
   "execution_count": 41,
   "id": "9bfab84e",
   "metadata": {},
   "outputs": [],
   "source": [
    "df.to_csv('Undisputed.csv', index = False)"
   ]
  },
  {
   "cell_type": "code",
   "execution_count": null,
   "id": "2612ec18",
   "metadata": {},
   "outputs": [],
   "source": []
  }
 ],
 "metadata": {
  "kernelspec": {
   "display_name": "Python 3 (ipykernel)",
   "language": "python",
   "name": "python3"
  },
  "language_info": {
   "codemirror_mode": {
    "name": "ipython",
    "version": 3
   },
   "file_extension": ".py",
   "mimetype": "text/x-python",
   "name": "python",
   "nbconvert_exporter": "python",
   "pygments_lexer": "ipython3",
   "version": "3.8.12"
  }
 },
 "nbformat": 4,
 "nbformat_minor": 5
}
